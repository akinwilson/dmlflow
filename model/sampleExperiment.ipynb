{
 "cells": [
  {
   "cell_type": "code",
   "execution_count": 12,
   "metadata": {},
   "outputs": [
    {
     "name": "stdout",
     "output_type": "stream",
     "text": [
      "Collecting conda\n",
      "  Downloading conda-4.3.16.tar.gz (299 kB)\n",
      "     |████████████████████████████████| 299 kB 11.0 MB/s            \n",
      "\u001b[?25h  Preparing metadata (setup.py) ... \u001b[?25ldone\n",
      "\u001b[?25hCollecting pycosat>=0.6.1\n",
      "  Downloading pycosat-0.6.3.zip (66 kB)\n",
      "     |████████████████████████████████| 66 kB 4.9 MB/s             \n",
      "\u001b[?25h  Preparing metadata (setup.py) ... \u001b[?25ldone\n",
      "\u001b[?25hRequirement already satisfied: requests>=2.12.4 in /home/akinwilson/.pyenv/versions/3.8.2/lib/python3.8/site-packages (from conda) (2.27.1)\n",
      "Requirement already satisfied: ruamel.yaml>=0.11.14 in /home/akinwilson/.pyenv/versions/3.8.2/lib/python3.8/site-packages (from conda) (0.17.21)\n",
      "Requirement already satisfied: certifi>=2017.4.17 in /home/akinwilson/.pyenv/versions/3.8.2/lib/python3.8/site-packages (from requests>=2.12.4->conda) (2021.10.8)\n",
      "Requirement already satisfied: idna<4,>=2.5 in /home/akinwilson/.pyenv/versions/3.8.2/lib/python3.8/site-packages (from requests>=2.12.4->conda) (3.3)\n",
      "Requirement already satisfied: charset-normalizer~=2.0.0 in /home/akinwilson/.pyenv/versions/3.8.2/lib/python3.8/site-packages (from requests>=2.12.4->conda) (2.0.10)\n",
      "Requirement already satisfied: urllib3<1.27,>=1.21.1 in /home/akinwilson/.pyenv/versions/3.8.2/lib/python3.8/site-packages (from requests>=2.12.4->conda) (1.26.8)\n",
      "Requirement already satisfied: ruamel.yaml.clib>=0.2.6 in /home/akinwilson/.pyenv/versions/3.8.2/lib/python3.8/site-packages (from ruamel.yaml>=0.11.14->conda) (0.2.6)\n",
      "Building wheels for collected packages: conda, pycosat\n",
      "  Building wheel for conda (setup.py) ... \u001b[?25ldone\n",
      "\u001b[?25h  Created wheel for conda: filename=conda-4.3.16-py3-none-any.whl size=336938 sha256=f0b5769781114950e25e2f1190e88ab345b6d038f29bf19d3559f53b1b04fd91\n",
      "  Stored in directory: /home/akinwilson/.cache/pip/wheels/6e/c5/70/e50a1a99d26cbe940549549b7601d484e0f0bc4b8f0ec49e36\n",
      "  Building wheel for pycosat (setup.py) ... \u001b[?25ldone\n",
      "\u001b[?25h  Created wheel for pycosat: filename=pycosat-0.6.3-cp38-cp38-linux_x86_64.whl size=190930 sha256=ca8334534f0681eff9a6b7b9dd688b01be7f728fedf85e239de402d1b6700791\n",
      "  Stored in directory: /home/akinwilson/.cache/pip/wheels/71/5b/2d/0a9247760f0f008abc0eae7c0127a8c1cddfe1145e4b170fc0\n",
      "Successfully built conda pycosat\n",
      "Installing collected packages: pycosat, conda\n",
      "Successfully installed conda-4.3.16 pycosat-0.6.3\n",
      "\u001b[33mWARNING: You are using pip version 21.3.1; however, version 22.0.4 is available.\n",
      "You should consider upgrading via the '/home/akinwilson/.pyenv/versions/3.8.2/bin/python -m pip install --upgrade pip' command.\u001b[0m\n"
     ]
    }
   ],
   "source": [
    "# !python -m pip install mlflow==1.24.1.dev0 --find-links=https://mlflow-snapshots.s3-us-west-2.amazonaws.com/mlflow-1.24.1.dev0-0.0825716d-py2.py3-none-any.whl\n",
    "# !python -m pip install conda"
   ]
  },
  {
   "cell_type": "code",
   "execution_count": 11,
   "metadata": {},
   "outputs": [
    {
     "ename": "AttributeError",
     "evalue": "'DataFrame' object has no attribute 'drop_column'",
     "output_type": "error",
     "traceback": [
      "\u001b[0;31m---------------------------------------------------------------------------\u001b[0m",
      "\u001b[0;31mAttributeError\u001b[0m                            Traceback (most recent call last)",
      "\u001b[1;32m/home/akinwilson/Projects/mlops/model/sampleExperiment.ipynb Cell 2'\u001b[0m in \u001b[0;36m<module>\u001b[0;34m\u001b[0m\n\u001b[1;32m     <a href='vscode-notebook-cell:/home/akinwilson/Projects/mlops/model/sampleExperiment.ipynb#ch0000021?line=19'>20</a>\u001b[0m     \u001b[39mreturn\u001b[39;00m df \n\u001b[1;32m     <a href='vscode-notebook-cell:/home/akinwilson/Projects/mlops/model/sampleExperiment.ipynb#ch0000021?line=22'>23</a>\u001b[0m df \u001b[39m=\u001b[39m get_data()\n\u001b[0;32m---> <a href='vscode-notebook-cell:/home/akinwilson/Projects/mlops/model/sampleExperiment.ipynb#ch0000021?line=23'>24</a>\u001b[0m df\u001b[39m.\u001b[39;49mdrop_column([\u001b[39m\"\u001b[39m\u001b[39mquality\u001b[39m\u001b[39m\"\u001b[39m])\n",
      "File \u001b[0;32m~/.local/share/virtualenvs/app-Mp8TQTG8/lib/python3.8/site-packages/pandas/core/generic.py:5583\u001b[0m, in \u001b[0;36mNDFrame.__getattr__\u001b[0;34m(self, name)\u001b[0m\n\u001b[1;32m   <a href='file:///home/akinwilson/.local/share/virtualenvs/app-Mp8TQTG8/lib/python3.8/site-packages/pandas/core/generic.py?line=5575'>5576</a>\u001b[0m \u001b[39mif\u001b[39;00m (\n\u001b[1;32m   <a href='file:///home/akinwilson/.local/share/virtualenvs/app-Mp8TQTG8/lib/python3.8/site-packages/pandas/core/generic.py?line=5576'>5577</a>\u001b[0m     name \u001b[39mnot\u001b[39;00m \u001b[39min\u001b[39;00m \u001b[39mself\u001b[39m\u001b[39m.\u001b[39m_internal_names_set\n\u001b[1;32m   <a href='file:///home/akinwilson/.local/share/virtualenvs/app-Mp8TQTG8/lib/python3.8/site-packages/pandas/core/generic.py?line=5577'>5578</a>\u001b[0m     \u001b[39mand\u001b[39;00m name \u001b[39mnot\u001b[39;00m \u001b[39min\u001b[39;00m \u001b[39mself\u001b[39m\u001b[39m.\u001b[39m_metadata\n\u001b[1;32m   <a href='file:///home/akinwilson/.local/share/virtualenvs/app-Mp8TQTG8/lib/python3.8/site-packages/pandas/core/generic.py?line=5578'>5579</a>\u001b[0m     \u001b[39mand\u001b[39;00m name \u001b[39mnot\u001b[39;00m \u001b[39min\u001b[39;00m \u001b[39mself\u001b[39m\u001b[39m.\u001b[39m_accessors\n\u001b[1;32m   <a href='file:///home/akinwilson/.local/share/virtualenvs/app-Mp8TQTG8/lib/python3.8/site-packages/pandas/core/generic.py?line=5579'>5580</a>\u001b[0m     \u001b[39mand\u001b[39;00m \u001b[39mself\u001b[39m\u001b[39m.\u001b[39m_info_axis\u001b[39m.\u001b[39m_can_hold_identifiers_and_holds_name(name)\n\u001b[1;32m   <a href='file:///home/akinwilson/.local/share/virtualenvs/app-Mp8TQTG8/lib/python3.8/site-packages/pandas/core/generic.py?line=5580'>5581</a>\u001b[0m ):\n\u001b[1;32m   <a href='file:///home/akinwilson/.local/share/virtualenvs/app-Mp8TQTG8/lib/python3.8/site-packages/pandas/core/generic.py?line=5581'>5582</a>\u001b[0m     \u001b[39mreturn\u001b[39;00m \u001b[39mself\u001b[39m[name]\n\u001b[0;32m-> <a href='file:///home/akinwilson/.local/share/virtualenvs/app-Mp8TQTG8/lib/python3.8/site-packages/pandas/core/generic.py?line=5582'>5583</a>\u001b[0m \u001b[39mreturn\u001b[39;00m \u001b[39mobject\u001b[39;49m\u001b[39m.\u001b[39;49m\u001b[39m__getattribute__\u001b[39;49m(\u001b[39mself\u001b[39;49m, name)\n",
      "\u001b[0;31mAttributeError\u001b[0m: 'DataFrame' object has no attribute 'drop_column'"
     ]
    }
   ],
   "source": [
    "\n",
    "import pandas as pd \n",
    "import logging\n",
    "import pickle \n",
    "\n",
    "logging.basicConfig(level=logging.WARN)\n",
    "logger = logging.getLogger(__name__)\n",
    "\n",
    "\n",
    "def get_data():\n",
    "    # Read the wine-quality csv file from the URL\n",
    "    csv_url = (\n",
    "        \"http://archive.ics.uci.edu/ml/machine-learning-databases/wine-quality/winequality-red.csv\"\n",
    "    )\n",
    "    try:\n",
    "        df = pd.read_csv(csv_url, sep=\";\")\n",
    "    except Exception as e:\n",
    "        logger.exception(\n",
    "            \"Unable to download training & test CSV, check your internet connection. Error: %s\", e\n",
    "        )\n",
    "    return df \n",
    "\n",
    "\n",
    "df = get_data()\n",
    "df.drop_column(\"quality\")"
   ]
  },
  {
   "cell_type": "code",
   "execution_count": null,
   "metadata": {},
   "outputs": [],
   "source": []
  },
  {
   "cell_type": "code",
   "execution_count": 24,
   "metadata": {},
   "outputs": [],
   "source": [
    "import mlflow \n",
    "import mlflow.sklearn \n",
    "\n",
    "# mlflow.sklearn.log_model(sk_model,\n",
    "#                         artifact_path,\n",
    "#                         conda_env, \n",
    "#                         code_paths, \n",
    "#                         serialization_format,\n",
    "#                         registered_model_name,\n",
    "#                         signature: ModelSignature,\n",
    "#                         input_example, \n",
    "#                         pip_requirements)\n",
    "\n",
    "\n",
    "from mlflow.models.signature import infer_signature\n",
    "from sklearn.model_selection import train_test_split\n",
    "from sklearn.linear_model import ElasticNet \n",
    "\n",
    "# train = df.drop_column(\"target_label\")\n",
    "# predictions = ... # compute model predictions\n",
    "# signature = infer_signature(train, predictions)\n",
    "\n",
    "\n",
    "\n",
    "train, test = train_test_split(df)\n",
    "\n",
    "# features \n",
    "train_x = train.drop([\"quality\"], axis=1)\n",
    "test_x = test.drop([\"quality\"], axis=1)\n",
    "\n",
    "# targets \n",
    "train_y = train[[\"quality\"]]\n",
    "test_y = test[[\"quality\"]]\n",
    "\n",
    "alpha=0.5\n",
    "l1_ratio=0.5\n",
    "lr = ElasticNet(alpha=alpha, l1_ratio=l1_ratio, random_state=42)\n",
    "lr.fit(train_x, train_y)\n",
    "y_hat = lr.predict(test_x)\n",
    "\n",
    "\n",
    "def get_model_signature(x, y_hat):\n",
    "    '''inputs are expected to be a dataframe and the prediction of the model'''\n",
    "    return infer_signature(x, y_hat)\n"
   ]
  },
  {
   "cell_type": "code",
   "execution_count": 28,
   "metadata": {},
   "outputs": [
    {
     "data": {
      "text/html": [
       "<div>\n",
       "<style scoped>\n",
       "    .dataframe tbody tr th:only-of-type {\n",
       "        vertical-align: middle;\n",
       "    }\n",
       "\n",
       "    .dataframe tbody tr th {\n",
       "        vertical-align: top;\n",
       "    }\n",
       "\n",
       "    .dataframe thead th {\n",
       "        text-align: right;\n",
       "    }\n",
       "</style>\n",
       "<table border=\"1\" class=\"dataframe\">\n",
       "  <thead>\n",
       "    <tr style=\"text-align: right;\">\n",
       "      <th></th>\n",
       "      <th>fixed acidity</th>\n",
       "      <th>volatile acidity</th>\n",
       "      <th>citric acid</th>\n",
       "      <th>residual sugar</th>\n",
       "      <th>chlorides</th>\n",
       "      <th>free sulfur dioxide</th>\n",
       "      <th>total sulfur dioxide</th>\n",
       "      <th>density</th>\n",
       "      <th>pH</th>\n",
       "      <th>sulphates</th>\n",
       "      <th>alcohol</th>\n",
       "    </tr>\n",
       "  </thead>\n",
       "  <tbody>\n",
       "    <tr>\n",
       "      <th>945</th>\n",
       "      <td>10.2</td>\n",
       "      <td>0.44</td>\n",
       "      <td>0.42</td>\n",
       "      <td>2.0</td>\n",
       "      <td>0.071</td>\n",
       "      <td>7.0</td>\n",
       "      <td>20.0</td>\n",
       "      <td>0.99566</td>\n",
       "      <td>3.14</td>\n",
       "      <td>0.79</td>\n",
       "      <td>11.1</td>\n",
       "    </tr>\n",
       "  </tbody>\n",
       "</table>\n",
       "</div>"
      ],
      "text/plain": [
       "     fixed acidity  volatile acidity  citric acid  residual sugar  chlorides  \\\n",
       "945           10.2              0.44         0.42             2.0      0.071   \n",
       "\n",
       "     free sulfur dioxide  total sulfur dioxide  density    pH  sulphates  \\\n",
       "945                  7.0                  20.0  0.99566  3.14       0.79   \n",
       "\n",
       "     alcohol  \n",
       "945     11.1  "
      ]
     },
     "execution_count": 28,
     "metadata": {},
     "output_type": "execute_result"
    }
   ],
   "source": []
  },
  {
   "cell_type": "code",
   "execution_count": 14,
   "metadata": {},
   "outputs": [],
   "source": [
    "import mlflow\n",
    "from dotenv import load_dotenv\n",
    "from pprint import pprint\n",
    "from mlflow.tracking import MlflowClient\n",
    "client = MlflowClient()"
   ]
  },
  {
   "cell_type": "code",
   "execution_count": 18,
   "metadata": {},
   "outputs": [
    {
     "data": {
      "text/plain": [
       "['create_experiment',\n",
       " 'create_model_version',\n",
       " 'create_registered_model',\n",
       " 'create_run',\n",
       " 'delete_experiment',\n",
       " 'delete_model_version',\n",
       " 'delete_model_version_tag',\n",
       " 'delete_registered_model',\n",
       " 'delete_registered_model_tag',\n",
       " 'delete_run',\n",
       " 'delete_tag',\n",
       " 'download_artifacts',\n",
       " 'get_experiment',\n",
       " 'get_experiment_by_name',\n",
       " 'get_latest_versions',\n",
       " 'get_metric_history',\n",
       " 'get_model_version',\n",
       " 'get_model_version_download_uri',\n",
       " 'get_model_version_stages',\n",
       " 'get_registered_model',\n",
       " 'get_run',\n",
       " 'list_artifacts',\n",
       " 'list_experiments',\n",
       " 'list_registered_models',\n",
       " 'list_run_infos',\n",
       " 'log_artifact',\n",
       " 'log_artifacts',\n",
       " 'log_batch',\n",
       " 'log_dict',\n",
       " 'log_figure',\n",
       " 'log_image',\n",
       " 'log_metric',\n",
       " 'log_param',\n",
       " 'log_text',\n",
       " 'rename_experiment',\n",
       " 'rename_registered_model',\n",
       " 'restore_experiment',\n",
       " 'restore_run',\n",
       " 'search_model_versions',\n",
       " 'search_registered_models',\n",
       " 'search_runs',\n",
       " 'set_experiment_tag',\n",
       " 'set_model_version_tag',\n",
       " 'set_registered_model_tag',\n",
       " 'set_tag',\n",
       " 'set_terminated',\n",
       " 'transition_model_version_stage',\n",
       " 'update_model_version',\n",
       " 'update_registered_model']"
      ]
     },
     "execution_count": 18,
     "metadata": {},
     "output_type": "execute_result"
    }
   ],
   "source": [
    "# [x for x in dir(client) if not x.startswith(\"_\")]"
   ]
  },
  {
   "cell_type": "code",
   "execution_count": 2,
   "metadata": {},
   "outputs": [
    {
     "name": "stdout",
     "output_type": "stream",
     "text": [
      "Tracking server uri before loading env vars:\n",
      "file:///home/akinwilson/Projects/mlops/app/mlruns\n",
      "\n",
      "\n",
      "Tracking server uri after loading env vars:\n",
      "http://mlops-alb-development-2008207679.eu-west-2.elb.amazonaws.com/mlops/\n"
     ]
    }
   ],
   "source": [
    "import os\n",
    "print(\"Tracking server uri before loading env vars:\")\n",
    "print(mlflow.tracking.get_tracking_uri())\n",
    "print(\"\\n\")\n",
    "load_dotenv()\n",
    "print(\"Tracking server uri after loading env vars:\")\n",
    "print(mlflow.tracking.get_tracking_uri())\n",
    "DEFAULT_ARTIFACTS_URI = os.environ['MLFLOW_TRACKING_URI']"
   ]
  },
  {
   "cell_type": "code",
   "execution_count": 3,
   "metadata": {},
   "outputs": [
    {
     "name": "stdout",
     "output_type": "stream",
     "text": [
      "Current artifacts associated to http://mlops-alb-development-2008207679.eu-west-2.elb.amazonaws.com/mlops/:\n"
     ]
    },
    {
     "data": {
      "text/plain": [
       "[]"
      ]
     },
     "execution_count": 3,
     "metadata": {},
     "output_type": "execute_result"
    }
   ],
   "source": [
    "from mlflow.store.artifact.mlflow_artifacts_repo import MlflowArtifactsRepository\n",
    "print(f\"Current artifacts associated to {DEFAULT_ARTIFACTS_URI}:\")\n",
    "MlflowArtifactsRepository(DEFAULT_ARTIFACTS_URI).list_artifacts()"
   ]
  },
  {
   "cell_type": "markdown",
   "metadata": {},
   "source": [
    "### Defining sampling model training routine with mlflow logging\n",
    "\n",
    "- parameter tracking\n",
    "- metric tracking\n",
    "- model logging "
   ]
  },
  {
   "cell_type": "code",
   "execution_count": 4,
   "metadata": {},
   "outputs": [],
   "source": [
    "import warnings\n",
    "import pandas as pd\n",
    "import numpy as np\n",
    "from sklearn.metrics import mean_squared_error, mean_absolute_error, r2_score\n",
    "from sklearn.model_selection import train_test_split\n",
    "from sklearn.linear_model import ElasticNet\n",
    "# from urllib.parse import urlparse\n",
    "import mlflow\n",
    "import mlflow.sklearn\n",
    "\n",
    "import logging\n",
    "\n",
    "logging.basicConfig(level=logging.WARN)\n",
    "logger = logging.getLogger(__name__)\n",
    "\n",
    "\n",
    "def eval_metrics(actual, pred):\n",
    "    rmse = np.sqrt(mean_squared_error(actual, pred))\n",
    "    mae = mean_absolute_error(actual, pred)\n",
    "    r2 = r2_score(actual, pred)\n",
    "    return rmse, mae, r2\n",
    "\n",
    "\n",
    "\n",
    "def get_model_signature(x, y_hat):\n",
    "    '''inputs are expected to be a dataframe and the prediction of the model'''\n",
    "    return infer_signature(x, y_hat)\n",
    "\n",
    "\n",
    "def training():\n",
    "    warnings.filterwarnings(\"ignore\")\n",
    "    np.random.seed(40)\n",
    "\n",
    "    # Read the wine-quality csv file from the URL\n",
    "    csv_url = (\n",
    "        \"http://archive.ics.uci.edu/ml/machine-learning-databases/wine-quality/winequality-red.csv\"\n",
    "    )\n",
    "    try:\n",
    "        data = pd.read_csv(csv_url, sep=\";\")\n",
    "    except Exception as e:\n",
    "        logger.exception(\n",
    "            \"Unable to download training & test CSV, check your internet connection. Error: %s\", e\n",
    "        )\n",
    "    # Split the data into training and test sets. (0.75, 0.25) split.\n",
    "    train, test = train_test_split(data)\n",
    "    # The predicted column is \"quality\" which is a scalar from [3, 9]\n",
    "    train_x = train.drop([\"quality\"], axis=1)\n",
    "    test_x = test.drop([\"quality\"], axis=1)\n",
    "    train_y = train[[\"quality\"]]\n",
    "    test_y = test[[\"quality\"]]\n",
    "\n",
    "    alpha =  0.5\n",
    "    l1_ratio = 0.5\n",
    "\n",
    "    exp_id = mlflow.create_experiment(\"testing-V5\")\n",
    "    print(mlflow.get_experiment(exp_id))\n",
    "    \n",
    "    mlflow.start_run(experiment_id=exp_id)\n",
    "    \n",
    "    lr = ElasticNet(alpha=alpha, l1_ratio=l1_ratio, random_state=42)\n",
    "    lr.fit(train_x, train_y)\n",
    "    predicted_qualities = lr.predict(test_x)\n",
    "    (rmse, mae, r2) = eval_metrics(test_y, predicted_qualities)\n",
    "    print(f\"Elasticnet model (alpha={alpha}, l1_ratio={l1_ratio}):\")\n",
    "    print(f\"  RMSE: {rmse}\")\n",
    "    print(f\"  MAE: {mae}\")\n",
    "    print(f\"  R2: {r2}\")\n",
    "    # param logging\n",
    "    mlflow.log_param(\"alpha\", alpha)\n",
    "    mlflow.log_param(\"l1_ratio\", l1_ratio)\n",
    "    # metric logging\n",
    "    mlflow.log_metric(\"rmse\", rmse)\n",
    "    mlflow.log_metric(\"r2\", r2)\n",
    "    mlflow.log_metric(\"mae\", mae)\n",
    "    # model logging\n",
    "    mlflow.sklearn.log_model(sk_model=lr,\n",
    "                            artifact_path=\"model\",\n",
    "                            registered_model_name=\"ElasticnetWineModel\",\n",
    "                            signature=get_model_signature(test_x, y_hat),\n",
    "                            input_example=test_x.head(1))\n",
    "    mlflow.end_run()"
   ]
  },
  {
   "cell_type": "code",
   "execution_count": 5,
   "metadata": {},
   "outputs": [
    {
     "name": "stdout",
     "output_type": "stream",
     "text": [
      "<Experiment: artifact_location='mlflow-artifacts:/1', experiment_id='1', lifecycle_stage='active', name='testing-V5', tags={}>\n",
      "Elasticnet model (alpha=0.5, l1_ratio=0.5):\n",
      "  RMSE: 0.7931640229276851\n",
      "  MAE: 0.6271946374319586\n",
      "  R2: 0.10862644997792614\n"
     ]
    },
    {
     "name": "stderr",
     "output_type": "stream",
     "text": [
      "Successfully registered model 'ElasticnetWineModel'.\n",
      "2022/04/18 11:38:48 INFO mlflow.tracking._model_registry.client: Waiting up to 300 seconds for model version to finish creation.                     Model name: ElasticnetWineModel, version 1\n",
      "Created version '1' of model 'ElasticnetWineModel'.\n"
     ]
    }
   ],
   "source": [
    "training()"
   ]
  },
  {
   "cell_type": "code",
   "execution_count": null,
   "metadata": {},
   "outputs": [],
   "source": [
    "mlflow.end_run()"
   ]
  },
  {
   "cell_type": "markdown",
   "metadata": {},
   "source": [
    "# Add or updating model description"
   ]
  },
  {
   "cell_type": "code",
   "execution_count": 15,
   "metadata": {},
   "outputs": [
    {
     "data": {
      "text/plain": [
       "<ModelVersion: creation_timestamp=1650278328899, current_stage='Production', description=(' Model trained on  two datasets are related to red and white variants of the '\n",
       " 'Portuguese \\n'\n",
       " \"        'Vinho Verde' wine. For more details, consult the reference [Cortez \"\n",
       " 'et al., 2009].'), last_updated_timestamp=1650279129615, name='ElasticnetWineModel', run_id='6c70852082c643e080835b6405e014ed', run_link='', source='mlflow-artifacts:/1/6c70852082c643e080835b6405e014ed/artifacts/model', status='READY', status_message='', tags={}, user_id='', version='1'>"
      ]
     },
     "execution_count": 15,
     "metadata": {},
     "output_type": "execute_result"
    }
   ],
   "source": [
    "client = MlflowClient()\n",
    "\n",
    "desc =\"\"\" Model trained on  two datasets are related to red and white variants of the Portuguese \n",
    "        'Vinho Verde' wine. For more details, consult the reference [Cortez et al., 2009].\"\"\"\n",
    "\n",
    "\n",
    "client.update_model_version(\n",
    "    name=\"ElasticnetWineModel\",\n",
    "    version=1,\n",
    "    description=desc\n",
    ")\n"
   ]
  },
  {
   "cell_type": "markdown",
   "metadata": {},
   "source": [
    "# Show registered Models"
   ]
  },
  {
   "cell_type": "code",
   "execution_count": 8,
   "metadata": {},
   "outputs": [
    {
     "name": "stdout",
     "output_type": "stream",
     "text": [
      "{   'creation_timestamp': 1650278328791,\n",
      "    'description': '',\n",
      "    'last_updated_timestamp': 1650278328899,\n",
      "    'latest_versions': [   <ModelVersion: creation_timestamp=1650278328899, current_stage='None', description='', last_updated_timestamp=1650278328899, name='ElasticnetWineModel', run_id='6c70852082c643e080835b6405e014ed', run_link='', source='mlflow-artifacts:/1/6c70852082c643e080835b6405e014ed/artifacts/model', status='READY', status_message='', tags={}, user_id='', version='1'>],\n",
      "    'name': 'ElasticnetWineModel',\n",
      "    'tags': {}}\n"
     ]
    }
   ],
   "source": [
    "for rm in client.list_registered_models():\n",
    "    pprint(dict(rm), indent=4)"
   ]
  },
  {
   "cell_type": "code",
   "execution_count": 9,
   "metadata": {},
   "outputs": [
    {
     "data": {
      "text/plain": [
       "{'creation_timestamp': 1650278328791,\n",
       " 'description': '',\n",
       " 'last_updated_timestamp': 1650278328899,\n",
       " 'latest_versions': [<ModelVersion: creation_timestamp=1650278328899, current_stage='None', description='', last_updated_timestamp=1650278328899, name='ElasticnetWineModel', run_id='6c70852082c643e080835b6405e014ed', run_link='', source='mlflow-artifacts:/1/6c70852082c643e080835b6405e014ed/artifacts/model', status='READY', status_message='', tags={}, user_id='', version='1'>],\n",
       " 'name': 'ElasticnetWineModel',\n",
       " 'tags': {}}"
      ]
     },
     "execution_count": 9,
     "metadata": {},
     "output_type": "execute_result"
    }
   ],
   "source": [
    "dict(rm)"
   ]
  },
  {
   "cell_type": "markdown",
   "metadata": {},
   "source": [
    "# Transition model to stage"
   ]
  },
  {
   "cell_type": "code",
   "execution_count": 10,
   "metadata": {},
   "outputs": [
    {
     "data": {
      "text/plain": [
       "<ModelVersion: creation_timestamp=1650278328899, current_stage='Production', description='', last_updated_timestamp=1650278613192, name='ElasticnetWineModel', run_id='6c70852082c643e080835b6405e014ed', run_link='', source='mlflow-artifacts:/1/6c70852082c643e080835b6405e014ed/artifacts/model', status='READY', status_message='', tags={}, user_id='', version='1'>"
      ]
     },
     "execution_count": 10,
     "metadata": {},
     "output_type": "execute_result"
    }
   ],
   "source": [
    "client.transition_model_version_stage(\n",
    "    name=\"ElasticnetWineModel\",\n",
    "    version=1,\n",
    "    stage=\"Production\"\n",
    ")"
   ]
  },
  {
   "cell_type": "markdown",
   "metadata": {},
   "source": [
    "# Serving model\n",
    "_to do: need to include mlflowProject to ensure dependencies are all present_"
   ]
  },
  {
   "cell_type": "code",
   "execution_count": 13,
   "metadata": {},
   "outputs": [
    {
     "name": "stdout",
     "output_type": "stream",
     "text": [
      "2022/04/18 11:46:33 INFO mlflow.models.cli: Selected backend for flavor 'python_function'\n",
      "Traceback (most recent call last):\n",
      "  File \"/home/akinwilson/.pyenv/versions/3.8.2/bin/mlflow\", line 8, in <module>\n",
      "    sys.exit(cli())\n",
      "  File \"/home/akinwilson/.local/lib/python3.8/site-packages/click/core.py\", line 1128, in __call__\n",
      "    return self.main(*args, **kwargs)\n",
      "  File \"/home/akinwilson/.local/lib/python3.8/site-packages/click/core.py\", line 1053, in main\n",
      "    rv = self.invoke(ctx)\n",
      "  File \"/home/akinwilson/.local/lib/python3.8/site-packages/click/core.py\", line 1659, in invoke\n",
      "    return _process_result(sub_ctx.command.invoke(sub_ctx))\n",
      "  File \"/home/akinwilson/.local/lib/python3.8/site-packages/click/core.py\", line 1659, in invoke\n",
      "    return _process_result(sub_ctx.command.invoke(sub_ctx))\n",
      "  File \"/home/akinwilson/.local/lib/python3.8/site-packages/click/core.py\", line 1395, in invoke\n",
      "    return ctx.invoke(self.callback, **ctx.params)\n",
      "  File \"/home/akinwilson/.local/lib/python3.8/site-packages/click/core.py\", line 754, in invoke\n",
      "    return __callback(*args, **kwargs)\n",
      "  File \"/home/akinwilson/.pyenv/versions/3.8.2/lib/python3.8/site-packages/mlflow/models/cli.py\", line 57, in serve\n",
      "    return _get_flavor_backend(\n",
      "  File \"/home/akinwilson/.pyenv/versions/3.8.2/lib/python3.8/site-packages/mlflow/pyfunc/backend.py\", line 78, in serve\n",
      "    return _execute_in_conda_env(\n",
      "  File \"/home/akinwilson/.pyenv/versions/3.8.2/lib/python3.8/site-packages/mlflow/pyfunc/backend.py\", line 144, in _execute_in_conda_env\n",
      "    conda_env_name = get_or_create_conda_env(conda_env_path, env_id=env_id)\n",
      "  File \"/home/akinwilson/.pyenv/versions/3.8.2/lib/python3.8/site-packages/mlflow/utils/conda.py\", line 129, in get_or_create_conda_env\n",
      "    (_, stdout, _) = process.exec_cmd([conda_path, \"env\", \"list\", \"--json\"])\n",
      "  File \"/home/akinwilson/.pyenv/versions/3.8.2/lib/python3.8/site-packages/mlflow/utils/process.py\", line 56, in exec_cmd\n",
      "    raise ShellCommandException(\n",
      "mlflow.utils.process.ShellCommandException: Non-zero exit code: 1\n",
      "\n",
      "STDOUT:\n",
      "\n",
      "\n",
      "STDERR:ERROR: The install method you used for conda--probably either `pip install conda`\n",
      "or `easy_install conda`--is not compatible with using conda as an application.\n",
      "If your intention is to install conda as a standalone application, currently\n",
      "supported install methods include the Anaconda installer and the miniconda\n",
      "installer.  You can download the miniconda installer from\n",
      "https://conda.io/miniconda.html.\n",
      "\n",
      "\n"
     ]
    }
   ],
   "source": [
    "# Set environment variable for the tracking URL where the Model Registry resides\n",
    "!export MLFLOW_TRACKING_URI=DEFAULT_ARTIFACTS_URI\n",
    "# Serve the production model from the model registry\n",
    "!mlflow models serve -m \"models:/ElasticnetWineModel/Production\""
   ]
  }
 ],
 "metadata": {
  "interpreter": {
   "hash": "5806dd9fdf42de81aae405a0f5668ff3b24c84e586550c18f6db3b948abcc029"
  },
  "kernelspec": {
   "display_name": "app-Mp8TQTG8",
   "language": "python",
   "name": "app-mp8tqtg8"
  },
  "language_info": {
   "codemirror_mode": {
    "name": "ipython",
    "version": 3
   },
   "file_extension": ".py",
   "mimetype": "text/x-python",
   "name": "python",
   "nbconvert_exporter": "python",
   "pygments_lexer": "ipython3",
   "version": "3.8.2"
  }
 },
 "nbformat": 4,
 "nbformat_minor": 4
}
