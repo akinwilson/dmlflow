{
 "cells": [
  {
   "cell_type": "code",
   "execution_count": 4,
   "metadata": {},
   "outputs": [
    {
     "name": "stdout",
     "output_type": "stream",
     "text": [
      "Looking in links: https://mlflow-snapshots.s3-us-west-2.amazonaws.com/mlflow-1.24.1.dev0-0.0825716d-py2.py3-none-any.whl\n",
      "\u001b[33mWARNING: Skipping page https://mlflow-snapshots.s3-us-west-2.amazonaws.com/mlflow-1.24.1.dev0-0.0825716d-py2.py3-none-any.whl because the HEAD request got Content-Type: binary/octet-stream.The only supported Content-Type is text/html\u001b[0m\n",
      "Collecting mlflow==1.24.1.dev0\n",
      "  Using cached https://mlflow-snapshots.s3-us-west-2.amazonaws.com/mlflow-1.24.1.dev0-0.0825716d-py2.py3-none-any.whl (16.5 MB)\n",
      "Requirement already satisfied: gitpython>=2.1.0 in /home/akinwilson/.pyenv/versions/3.8.2/lib/python3.8/site-packages (from mlflow==1.24.1.dev0) (3.1.26)\n",
      "Requirement already satisfied: click>=7.0 in /home/akinwilson/.local/lib/python3.8/site-packages (from mlflow==1.24.1.dev0) (8.0.3)\n",
      "Requirement already satisfied: alembic in /home/akinwilson/.pyenv/versions/3.8.2/lib/python3.8/site-packages (from mlflow==1.24.1.dev0) (1.4.1)\n",
      "Requirement already satisfied: entrypoints in /home/akinwilson/.pyenv/versions/3.8.2/lib/python3.8/site-packages (from mlflow==1.24.1.dev0) (0.3)\n",
      "Requirement already satisfied: Flask in /home/akinwilson/.pyenv/versions/3.8.2/lib/python3.8/site-packages (from mlflow==1.24.1.dev0) (2.0.2)\n",
      "Requirement already satisfied: cloudpickle in /home/akinwilson/.pyenv/versions/3.8.2/lib/python3.8/site-packages (from mlflow==1.24.1.dev0) (2.0.0)\n",
      "Requirement already satisfied: packaging in /home/akinwilson/.pyenv/versions/3.8.2/lib/python3.8/site-packages (from mlflow==1.24.1.dev0) (21.3)\n",
      "Requirement already satisfied: gunicorn in /home/akinwilson/.pyenv/versions/3.8.2/lib/python3.8/site-packages (from mlflow==1.24.1.dev0) (20.1.0)\n",
      "Requirement already satisfied: scipy in /home/akinwilson/.pyenv/versions/3.8.2/lib/python3.8/site-packages (from mlflow==1.24.1.dev0) (1.8.0)\n",
      "Requirement already satisfied: sqlparse>=0.3.1 in /home/akinwilson/.pyenv/versions/3.8.2/lib/python3.8/site-packages (from mlflow==1.24.1.dev0) (0.4.2)\n",
      "Requirement already satisfied: docker>=4.0.0 in /home/akinwilson/.pyenv/versions/3.8.2/lib/python3.8/site-packages (from mlflow==1.24.1.dev0) (5.0.3)\n",
      "Requirement already satisfied: prometheus-flask-exporter in /home/akinwilson/.pyenv/versions/3.8.2/lib/python3.8/site-packages (from mlflow==1.24.1.dev0) (0.18.7)\n",
      "Requirement already satisfied: sqlalchemy in /home/akinwilson/.pyenv/versions/3.8.2/lib/python3.8/site-packages (from mlflow==1.24.1.dev0) (1.4.29)\n",
      "Requirement already satisfied: pandas in /home/akinwilson/.pyenv/versions/3.8.2/lib/python3.8/site-packages (from mlflow==1.24.1.dev0) (1.3.5)\n",
      "Requirement already satisfied: querystring-parser in /home/akinwilson/.pyenv/versions/3.8.2/lib/python3.8/site-packages (from mlflow==1.24.1.dev0) (1.2.4)\n",
      "Requirement already satisfied: importlib-metadata!=4.7.0,>=3.7.0 in /home/akinwilson/.pyenv/versions/3.8.2/lib/python3.8/site-packages (from mlflow==1.24.1.dev0) (4.10.0)\n",
      "Requirement already satisfied: pyyaml>=5.1 in /home/akinwilson/.pyenv/versions/3.8.2/lib/python3.8/site-packages (from mlflow==1.24.1.dev0) (6.0)\n",
      "Requirement already satisfied: protobuf>=3.7.0 in /home/akinwilson/.pyenv/versions/3.8.2/lib/python3.8/site-packages (from mlflow==1.24.1.dev0) (3.19.3)\n",
      "Requirement already satisfied: pytz in /home/akinwilson/.pyenv/versions/3.8.2/lib/python3.8/site-packages (from mlflow==1.24.1.dev0) (2021.3)\n",
      "Requirement already satisfied: numpy in /home/akinwilson/.pyenv/versions/3.8.2/lib/python3.8/site-packages (from mlflow==1.24.1.dev0) (1.22.1)\n",
      "Requirement already satisfied: databricks-cli>=0.8.7 in /home/akinwilson/.pyenv/versions/3.8.2/lib/python3.8/site-packages (from mlflow==1.24.1.dev0) (0.16.2)\n",
      "Requirement already satisfied: requests>=2.17.3 in /home/akinwilson/.pyenv/versions/3.8.2/lib/python3.8/site-packages (from mlflow==1.24.1.dev0) (2.27.1)\n",
      "Requirement already satisfied: six>=1.10.0 in /home/akinwilson/.pyenv/versions/3.8.2/lib/python3.8/site-packages (from databricks-cli>=0.8.7->mlflow==1.24.1.dev0) (1.16.0)\n",
      "Requirement already satisfied: tabulate>=0.7.7 in /home/akinwilson/.local/lib/python3.8/site-packages (from databricks-cli>=0.8.7->mlflow==1.24.1.dev0) (0.8.7)\n",
      "Requirement already satisfied: websocket-client>=0.32.0 in /home/akinwilson/.pyenv/versions/3.8.2/lib/python3.8/site-packages (from docker>=4.0.0->mlflow==1.24.1.dev0) (1.2.3)\n",
      "Requirement already satisfied: gitdb<5,>=4.0.1 in /home/akinwilson/.pyenv/versions/3.8.2/lib/python3.8/site-packages (from gitpython>=2.1.0->mlflow==1.24.1.dev0) (4.0.9)\n",
      "Requirement already satisfied: zipp>=0.5 in /home/akinwilson/.pyenv/versions/3.8.2/lib/python3.8/site-packages (from importlib-metadata!=4.7.0,>=3.7.0->mlflow==1.24.1.dev0) (3.7.0)\n",
      "Requirement already satisfied: charset-normalizer~=2.0.0 in /home/akinwilson/.pyenv/versions/3.8.2/lib/python3.8/site-packages (from requests>=2.17.3->mlflow==1.24.1.dev0) (2.0.10)\n",
      "Requirement already satisfied: urllib3<1.27,>=1.21.1 in /home/akinwilson/.pyenv/versions/3.8.2/lib/python3.8/site-packages (from requests>=2.17.3->mlflow==1.24.1.dev0) (1.26.8)\n",
      "Requirement already satisfied: certifi>=2017.4.17 in /home/akinwilson/.pyenv/versions/3.8.2/lib/python3.8/site-packages (from requests>=2.17.3->mlflow==1.24.1.dev0) (2021.10.8)\n",
      "Requirement already satisfied: idna<4,>=2.5 in /home/akinwilson/.pyenv/versions/3.8.2/lib/python3.8/site-packages (from requests>=2.17.3->mlflow==1.24.1.dev0) (3.3)\n",
      "Requirement already satisfied: python-editor>=0.3 in /home/akinwilson/.pyenv/versions/3.8.2/lib/python3.8/site-packages (from alembic->mlflow==1.24.1.dev0) (1.0.4)\n",
      "Requirement already satisfied: Mako in /home/akinwilson/.pyenv/versions/3.8.2/lib/python3.8/site-packages (from alembic->mlflow==1.24.1.dev0) (1.1.6)\n",
      "Requirement already satisfied: python-dateutil in /home/akinwilson/.pyenv/versions/3.8.2/lib/python3.8/site-packages (from alembic->mlflow==1.24.1.dev0) (2.8.2)\n",
      "Requirement already satisfied: greenlet!=0.4.17 in /home/akinwilson/.pyenv/versions/3.8.2/lib/python3.8/site-packages (from sqlalchemy->mlflow==1.24.1.dev0) (1.1.2)\n",
      "Requirement already satisfied: Werkzeug>=2.0 in /home/akinwilson/.pyenv/versions/3.8.2/lib/python3.8/site-packages (from Flask->mlflow==1.24.1.dev0) (2.0.2)\n",
      "Requirement already satisfied: Jinja2>=3.0 in /home/akinwilson/.pyenv/versions/3.8.2/lib/python3.8/site-packages (from Flask->mlflow==1.24.1.dev0) (3.0.3)\n",
      "Requirement already satisfied: itsdangerous>=2.0 in /home/akinwilson/.pyenv/versions/3.8.2/lib/python3.8/site-packages (from Flask->mlflow==1.24.1.dev0) (2.0.1)\n",
      "Requirement already satisfied: setuptools>=3.0 in /home/akinwilson/.pyenv/versions/3.8.2/lib/python3.8/site-packages (from gunicorn->mlflow==1.24.1.dev0) (41.2.0)\n",
      "Requirement already satisfied: pyparsing!=3.0.5,>=2.0.2 in /home/akinwilson/.pyenv/versions/3.8.2/lib/python3.8/site-packages (from packaging->mlflow==1.24.1.dev0) (3.0.6)\n",
      "Requirement already satisfied: prometheus-client in /home/akinwilson/.pyenv/versions/3.8.2/lib/python3.8/site-packages (from prometheus-flask-exporter->mlflow==1.24.1.dev0) (0.12.0)\n",
      "Requirement already satisfied: smmap<6,>=3.0.1 in /home/akinwilson/.pyenv/versions/3.8.2/lib/python3.8/site-packages (from gitdb<5,>=4.0.1->gitpython>=2.1.0->mlflow==1.24.1.dev0) (5.0.0)\n",
      "Requirement already satisfied: MarkupSafe>=2.0 in /home/akinwilson/.pyenv/versions/3.8.2/lib/python3.8/site-packages (from Jinja2>=3.0->Flask->mlflow==1.24.1.dev0) (2.0.1)\n",
      "Installing collected packages: mlflow\n",
      "  Attempting uninstall: mlflow\n",
      "    Found existing installation: mlflow 1.22.0\n",
      "    Uninstalling mlflow-1.22.0:\n",
      "      Successfully uninstalled mlflow-1.22.0\n",
      "Successfully installed mlflow-1.24.1.dev0\n",
      "\u001b[33mWARNING: You are using pip version 21.3.1; however, version 22.0.4 is available.\n",
      "You should consider upgrading via the '/home/akinwilson/.pyenv/versions/3.8.2/bin/python -m pip install --upgrade pip' command.\u001b[0m\n"
     ]
    }
   ],
   "source": [
    "!python -m pip install mlflow==1.24.1.dev0 --find-links=https://mlflow-snapshots.s3-us-west-2.amazonaws.com/mlflow-1.24.1.dev0-0.0825716d-py2.py3-none-any.whl"
   ]
  },
  {
   "cell_type": "code",
   "execution_count": 1,
   "metadata": {},
   "outputs": [],
   "source": [
    "import mlflow\n",
    "import os\n",
    "import requests \n",
    "from pprint import pprint \n",
    "from dotenv import load_dotenv"
   ]
  },
  {
   "cell_type": "code",
   "execution_count": 2,
   "metadata": {},
   "outputs": [
    {
     "name": "stdout",
     "output_type": "stream",
     "text": [
      "http://mlops-alb-development-202947496.eu-west-2.elb.amazonaws.com/mlops/\n"
     ]
    }
   ],
   "source": [
    "import os\n",
    "load_dotenv()\n",
    "DEFAULT_ARTIFACTS_URI = os.environ['MLFLOW_TRACKING_URI']\n",
    "print(DEFAULT_ARTIFACTS_URI)"
   ]
  },
  {
   "cell_type": "code",
   "execution_count": 3,
   "metadata": {},
   "outputs": [
    {
     "data": {
      "text/plain": [
       "[]"
      ]
     },
     "execution_count": 3,
     "metadata": {},
     "output_type": "execute_result"
    }
   ],
   "source": [
    "from mlflow.store.artifact.mlflow_artifacts_repo import MlflowArtifactsRepository\n",
    "MlflowArtifactsRepository(DEFAULT_ARTIFACTS_URI).list_artifacts()"
   ]
  },
  {
   "cell_type": "code",
   "execution_count": 4,
   "metadata": {},
   "outputs": [
    {
     "name": "stdout",
     "output_type": "stream",
     "text": [
      "Tracking server uri before loading env vars:\n",
      "http://mlops-alb-development-202947496.eu-west-2.elb.amazonaws.com/mlops/\n",
      "Tracking server uri after loading env vars:\n",
      "http://mlops-alb-development-202947496.eu-west-2.elb.amazonaws.com/mlops/\n"
     ]
    }
   ],
   "source": [
    "print(\"Tracking server uri before loading env vars:\")\n",
    "print(mlflow.tracking.get_tracking_uri())\n",
    "load_dotenv()\n",
    "print(\"Tracking server uri after loading env vars:\")\n",
    "print(mlflow.tracking.get_tracking_uri())"
   ]
  },
  {
   "cell_type": "code",
   "execution_count": 5,
   "metadata": {},
   "outputs": [
    {
     "name": "stdout",
     "output_type": "stream",
     "text": [
      "Created experiment 'nlp' with id 1\n"
     ]
    }
   ],
   "source": [
    "!mlflow experiments create  -n nlp"
   ]
  },
  {
   "cell_type": "markdown",
   "metadata": {},
   "source": [
    "How do I see if it is authenticated or not?"
   ]
  },
  {
   "cell_type": "code",
   "execution_count": 6,
   "metadata": {},
   "outputs": [
    {
     "data": {
      "text/plain": [
       "'2'"
      ]
     },
     "execution_count": 6,
     "metadata": {},
     "output_type": "execute_result"
    }
   ],
   "source": [
    "mlflow.create_experiment(\"NLPv2\")"
   ]
  },
  {
   "cell_type": "code",
   "execution_count": 7,
   "metadata": {},
   "outputs": [],
   "source": [
    "import warnings\n",
    "import pandas as pd\n",
    "import numpy as np\n",
    "from sklearn.metrics import mean_squared_error, mean_absolute_error, r2_score\n",
    "from sklearn.model_selection import train_test_split\n",
    "from sklearn.linear_model import ElasticNet\n",
    "from urllib.parse import urlparse\n",
    "import mlflow\n",
    "import mlflow.sklearn\n",
    "\n",
    "import logging\n",
    "\n",
    "logging.basicConfig(level=logging.WARN)\n",
    "logger = logging.getLogger(__name__)\n",
    "\n",
    "\n",
    "def eval_metrics(actual, pred):\n",
    "    rmse = np.sqrt(mean_squared_error(actual, pred))\n",
    "    mae = mean_absolute_error(actual, pred)\n",
    "    r2 = r2_score(actual, pred)\n",
    "    return rmse, mae, r2\n",
    "\n",
    "def training():\n",
    "    warnings.filterwarnings(\"ignore\")\n",
    "    np.random.seed(40)\n",
    "\n",
    "    # Read the wine-quality csv file from the URL\n",
    "    csv_url = (\n",
    "        \"http://archive.ics.uci.edu/ml/machine-learning-databases/wine-quality/winequality-red.csv\"\n",
    "    )\n",
    "    try:\n",
    "        data = pd.read_csv(csv_url, sep=\";\")\n",
    "    except Exception as e:\n",
    "        logger.exception(\n",
    "            \"Unable to download training & test CSV, check your internet connection. Error: %s\", e\n",
    "        )\n",
    "\n",
    "    # Split the data into training and test sets. (0.75, 0.25) split.\n",
    "    train, test = train_test_split(data)\n",
    "\n",
    "    # The predicted column is \"quality\" which is a scalar from [3, 9]\n",
    "    train_x = train.drop([\"quality\"], axis=1)\n",
    "    test_x = test.drop([\"quality\"], axis=1)\n",
    "    train_y = train[[\"quality\"]]\n",
    "    test_y = test[[\"quality\"]]\n",
    "\n",
    "    alpha =  0.5\n",
    "    l1_ratio = 0.5\n",
    "    \n",
    "    exp_id = mlflow.create_experiment(\"NLPv5\")\n",
    "    \n",
    "    print(mlflow.get_experiment(exp_id))\n",
    "    \n",
    "    mlflow.start_run(experiment_id=exp_id)\n",
    "    \n",
    "    lr = ElasticNet(alpha=alpha, l1_ratio=l1_ratio, random_state=42)\n",
    "    lr.fit(train_x, train_y)\n",
    "    predicted_qualities = lr.predict(test_x)\n",
    "    (rmse, mae, r2) = eval_metrics(test_y, predicted_qualities)\n",
    "\n",
    "    print(\"Elasticnet model (alpha=%f, l1_ratio=%f):\" % (alpha, l1_ratio))\n",
    "    print(\"  RMSE: %s\" % rmse)\n",
    "    print(\"  MAE: %s\" % mae)\n",
    "    print(\"  R2: %s\" % r2)\n",
    "\n",
    "    mlflow.log_param(\"alpha\", alpha)\n",
    "    mlflow.log_param(\"l1_ratio\", l1_ratio)\n",
    "    mlflow.log_metric(\"rmse\", rmse)\n",
    "    mlflow.log_metric(\"r2\", r2)\n",
    "    mlflow.log_metric(\"mae\", mae)\n",
    "\n",
    "    tracking_url_type_store = urlparse(mlflow.get_tracking_uri()).scheme\n",
    "\n",
    "    # Model registry does not work with file store\n",
    "    if tracking_url_type_store != \"file\":\n",
    "\n",
    "        # Register the model\n",
    "        # There are other ways to use the Model Registry, which depends on the use case,\n",
    "        # please refer to the doc for more information:\n",
    "        # https://mlflow.org/docs/latest/model-registry.html#api-workflow\n",
    "        mlflow.sklearn.log_model(lr, \"model\", registered_model_name=\"ElasticnetWineModel\")\n",
    "    else:\n",
    "        mlflow.sklearn.log_model(lr, \"model\")\n",
    "        \n",
    "    mlflow.end_run()"
   ]
  },
  {
   "cell_type": "code",
   "execution_count": 8,
   "metadata": {},
   "outputs": [
    {
     "name": "stdout",
     "output_type": "stream",
     "text": [
      "<Experiment: artifact_location='mlflow-artifacts:/3', experiment_id='3', lifecycle_stage='active', name='NLPv5', tags={}>\n",
      "Elasticnet model (alpha=0.500000, l1_ratio=0.500000):\n",
      "  RMSE: 0.7931640229276851\n",
      "  MAE: 0.6271946374319586\n",
      "  R2: 0.10862644997792614\n"
     ]
    },
    {
     "name": "stderr",
     "output_type": "stream",
     "text": [
      "Successfully registered model 'ElasticnetWineModel'.\n",
      "2022/03/19 07:29:46 INFO mlflow.tracking._model_registry.client: Waiting up to 300 seconds for model version to finish creation.                     Model name: ElasticnetWineModel, version 1\n",
      "Created version '1' of model 'ElasticnetWineModel'.\n"
     ]
    }
   ],
   "source": [
    "training()"
   ]
  },
  {
   "cell_type": "code",
   "execution_count": null,
   "metadata": {},
   "outputs": [],
   "source": [
    "mlflow.active_run().__dict__\n",
    "mlflow.end_run()"
   ]
  }
 ],
 "metadata": {
  "interpreter": {
   "hash": "5806dd9fdf42de81aae405a0f5668ff3b24c84e586550c18f6db3b948abcc029"
  },
  "kernelspec": {
   "display_name": "mana-mlops-D-NGlTi1",
   "language": "python",
   "name": "python3"
  },
  "language_info": {
   "codemirror_mode": {
    "name": "ipython",
    "version": 3
   },
   "file_extension": ".py",
   "mimetype": "text/x-python",
   "name": "python",
   "nbconvert_exporter": "python",
   "pygments_lexer": "ipython3",
   "version": "3.8.2"
  }
 },
 "nbformat": 4,
 "nbformat_minor": 4
}
